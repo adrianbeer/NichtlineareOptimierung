{
 "cells": [
  {
   "cell_type": "code",
   "execution_count": 3,
   "metadata": {},
   "outputs": [],
   "source": [
    "import scipy\n",
    "from functools import partial"
   ]
  },
  {
   "attachments": {},
   "cell_type": "markdown",
   "metadata": {},
   "source": [
    "## A2"
   ]
  },
  {
   "cell_type": "code",
   "execution_count": 4,
   "metadata": {},
   "outputs": [],
   "source": [
    "def rosenbrock(x):\n",
    "    return 100*(x[0]**2 - x[1])**2 + (1 - x[0])**2\n",
    "\n",
    "def rosenbrock_scaled(x, alpha):\n",
    "    y = (x[0]*alpha, x[1]/alpha)\n",
    "    return rosenbrock(y)"
   ]
  },
  {
   "cell_type": "code",
   "execution_count": 24,
   "metadata": {},
   "outputs": [],
   "source": [
    "f = partial(rosenbrock_scaled, alpha=0.1)\n",
    "def colbeck(opt):\n",
    "    print(f\"Iteration at {opt} with f={f(opt)}\")\n",
    "x0 = (1,1)"
   ]
  },
  {
   "cell_type": "code",
   "execution_count": 25,
   "metadata": {},
   "outputs": [
    {
     "name": "stdout",
     "output_type": "stream",
     "text": [
      "Iteration at [ 1.00202909 -0.00999796] with f=2.020080142356266\n",
      "Iteration at [1.18108144 0.00136215] with f=0.7777440069737359\n",
      "Iteration at [2.08738518 0.00404594] with f=0.6270634296066694\n",
      "Iteration at [2.99435949 0.00703748] with f=0.5279890297469014\n",
      "Iteration at [3.90749636 0.01231804] with f=0.4582395581187966\n",
      "Iteration at [4.29051058 0.01690806] with f=0.3484954016922325\n",
      "Iteration at [5.42458394 0.02742907] with f=0.2492261422424505\n",
      "Iteration at [6.05391057 0.03672713] with f=0.15577597241414828\n",
      "Iteration at [6.69697942 0.04393166] with f=0.11752430061898203\n",
      "Iteration at [7.54596776 0.05493173] with f=0.10061954501334405\n",
      "Iteration at [7.53778261 0.05566769] with f=0.07386116217365662\n",
      "Iteration at [8.07986629 0.06499275] with f=0.03771877529196379\n",
      "Iteration at [8.79621319 0.07647991] with f=0.022473697593264383\n",
      "Iteration at [8.98910001 0.08045933] with f=0.011406590047761084\n",
      "Iteration at [9.55416668 0.09074122] with f=0.0049131713413471945\n",
      "Iteration at [9.65758965 0.09335805] with f=0.0012516825728077774\n",
      "Iteration at [9.88754801 0.09768982] with f=0.00018089112885204354\n",
      "Iteration at [9.96580703 0.09926737] with f=3.6627197271551674e-05\n",
      "Iteration at [9.99028462 0.09981189] with f=1.3164181401759143e-06\n",
      "Iteration at [10.00063883  0.10001193] with f=1.1244436048694402e-08\n",
      "Iteration at [9.99982913 0.09999657] with f=2.92704123076962e-10\n",
      "Iteration at [9.9998475  0.09999694] with f=2.3317812036618305e-10\n"
     ]
    },
    {
     "data": {
      "text/plain": [
       "  message: Optimization terminated successfully.\n",
       "  success: True\n",
       "   status: 0\n",
       "      fun: 2.3317812036618305e-10\n",
       "        x: [ 1.000e+01  1.000e-01]\n",
       "      nit: 22\n",
       "      jac: [ 1.719e-07 -9.093e-06]\n",
       " hess_inv: [[ 4.874e+01  9.737e-01]\n",
       "            [ 9.737e-01  1.950e-02]]\n",
       "     nfev: 78\n",
       "     njev: 26"
      ]
     },
     "execution_count": 25,
     "metadata": {},
     "output_type": "execute_result"
    }
   ],
   "source": [
    "\n",
    "scipy.optimize.minimize(f, x0=x0, method=\"BFGS\", callback=colbeck)"
   ]
  },
  {
   "cell_type": "code",
   "execution_count": 27,
   "metadata": {},
   "outputs": [
    {
     "name": "stdout",
     "output_type": "stream",
     "text": [
      "Iteration at [1.00200900e+00 2.01803448e-06] with f=0.8196785411132631\n",
      "Iteration at [1.00201598 0.00100401] with f=0.8096371648048696\n",
      "Iteration at [1.01429987 0.00113891] with f=0.8075493116104453\n",
      "Iteration at [1.22222474 0.00242978] with f=0.7792534075925976\n",
      "Iteration at [4.33395485 0.01604061] with f=0.3962568934465\n",
      "Iteration at [4.03031913 0.01479529] with f=0.37734333739416365\n",
      "Iteration at [4.67149341 0.02066229] with f=0.29739889168209466\n",
      "Iteration at [5.93932497 0.03287546] with f=0.22249660462975263\n",
      "Iteration at [6.19057848 0.03807272] with f=0.14574463196979442\n",
      "Iteration at [7.31929876 0.05197079] with f=0.09750461223804396\n",
      "Iteration at [7.44890158 0.05490228] with f=0.06848985314168791\n",
      "Iteration at [8.49009011 0.07075548] with f=0.04038492973491384\n",
      "Iteration at [8.5294072  0.07268775] with f=0.02166616287136021\n",
      "Iteration at [9.06789003 0.08192114] with f=0.009621536598368664\n",
      "Iteration at [9.60874839 0.09168355] with f=0.00568456075924248\n",
      "Iteration at [9.61143336 0.09231862] with f=0.0015470935742145483\n",
      "Iteration at [9.80805723 0.09615904] with f=0.00038359156499828006\n",
      "Iteration at [9.97542543 0.09944892] with f=4.226925692253655e-05\n",
      "Iteration at [9.98904423 0.09978302] with f=1.2409778922943178e-06\n",
      "Iteration at [9.99972848 0.09999421] with f=2.01579806759462e-09\n",
      "Iteration at [9.99989353 0.09999786] with f=1.1460962328337974e-10\n"
     ]
    },
    {
     "data": {
      "text/plain": [
       "  message: CONVERGENCE: REL_REDUCTION_OF_F_<=_FACTR*EPSMCH\n",
       "  success: True\n",
       "   status: 0\n",
       "      fun: 1.1460962328337974e-10\n",
       "        x: [ 1.000e+01  1.000e-01]\n",
       "      nit: 21\n",
       "      jac: [ 2.382e-06 -1.236e-04]\n",
       "     nfev: 90\n",
       "     njev: 30\n",
       " hess_inv: <2x2 LbfgsInvHessProduct with dtype=float64>"
      ]
     },
     "execution_count": 27,
     "metadata": {},
     "output_type": "execute_result"
    }
   ],
   "source": [
    "scipy.optimize.minimize(f, x0=x0, method=\"L-BFGS-B\", callback=colbeck)"
   ]
  },
  {
   "cell_type": "code",
   "execution_count": null,
   "metadata": {},
   "outputs": [],
   "source": []
  },
  {
   "attachments": {},
   "cell_type": "markdown",
   "metadata": {},
   "source": [
    "## A3"
   ]
  },
  {
   "cell_type": "code",
   "execution_count": 28,
   "metadata": {},
   "outputs": [],
   "source": [
    "import numpy as np"
   ]
  },
  {
   "cell_type": "code",
   "execution_count": 30,
   "metadata": {},
   "outputs": [],
   "source": [
    "# Rastrigin-Funktion\n",
    "def rastrigin(x):\n",
    "    n = len(x)\n",
    "    return 10*n + np.dot(x, x) - 10*np.sum(np.cos(2*np.pi*x))"
   ]
  },
  {
   "cell_type": "code",
   "execution_count": 34,
   "metadata": {},
   "outputs": [],
   "source": [
    "f = rastrigin\n",
    "def colbeck(opt):\n",
    "    print(f\"Iteration at {opt} with f={f(opt)}\")\n",
    "x0 = (0.5, 0.3)"
   ]
  },
  {
   "cell_type": "code",
   "execution_count": 35,
   "metadata": {},
   "outputs": [
    {
     "name": "stdout",
     "output_type": "stream",
     "text": [
      "Iteration at [0.49648227 0.08768097] with f=21.73128498014819\n",
      "Iteration at [0.48458665 0.00144313] with f=20.188379297339715\n",
      "Iteration at [ 0.04927499 -0.14975834] with f=4.610182568847938\n",
      "Iteration at [ 0.03237693 -0.15388583] with f=4.55234014830075\n",
      "Iteration at [ 0.02621371 -0.11276418] with f=2.5554673774316754\n",
      "Iteration at [-0.00039775  0.04209691] with f=0.34957712859158363\n",
      "Iteration at [-0.00032045 -0.00233453] with f=0.001101593329909889\n",
      "Iteration at [1.59836964e-05 2.57972315e-05] with f=1.8271429524929772e-07\n",
      "Iteration at [-5.89085842e-07  7.84892471e-08] with f=7.006661917330348e-11\n",
      "Iteration at [ 1.27581370e-08 -1.72922476e-08] with f=9.237055564881302e-14\n"
     ]
    },
    {
     "data": {
      "text/plain": [
       "  message: CONVERGENCE: NORM_OF_PROJECTED_GRADIENT_<=_PGTOL\n",
       "  success: True\n",
       "   status: 0\n",
       "      fun: 9.237055564881302e-14\n",
       "        x: [ 1.276e-08 -1.729e-08]\n",
       "      nit: 10\n",
       "      jac: [ 6.750e-06 -4.974e-06]\n",
       "     nfev: 57\n",
       "     njev: 19\n",
       " hess_inv: <2x2 LbfgsInvHessProduct with dtype=float64>"
      ]
     },
     "execution_count": 35,
     "metadata": {},
     "output_type": "execute_result"
    }
   ],
   "source": [
    "scipy.optimize.minimize(f, x0=x0, method=\"L-BFGS-B\", callback=colbeck)"
   ]
  },
  {
   "cell_type": "code",
   "execution_count": 36,
   "metadata": {},
   "outputs": [
    {
     "name": "stdout",
     "output_type": "stream",
     "text": [
      "Iteration at [ 0.4801022  -0.90096795] with f=22.838423009142904\n",
      "Iteration at [ 0.03439693 -1.07430919] with f=2.4582733759347306\n",
      "Iteration at [ 0.00889623 -1.07621317] with f=2.2987311685644833\n",
      "Iteration at [ 0.0077332  -1.06598368] with f=1.9953583283943637\n",
      "Iteration at [ 0.00550566 -1.04390098] with f=1.4737692580456994\n",
      "Iteration at [-6.66670215e-06 -9.92453005e-01] with f=0.9962037572820428\n",
      "Iteration at [-2.79131951e-06 -9.94984256e-01] with f=0.9949591887774645\n",
      "Iteration at [ 2.34522013e-08 -9.94958637e-01] with f=0.9949590570933999\n",
      "Iteration at [-8.11061984e-09 -9.94958646e-01] with f=0.9949590570933182\n"
     ]
    },
    {
     "data": {
      "text/plain": [
       "  message: Optimization terminated successfully.\n",
       "  success: True\n",
       "   status: 0\n",
       "      fun: 0.9949590570933182\n",
       "        x: [-8.111e-09 -9.950e-01]\n",
       "      nit: 9\n",
       "      jac: [-4.768e-07 -2.384e-07]\n",
       " hess_inv: [[ 2.547e-03 -2.994e-06]\n",
       "            [-2.994e-06  2.522e-03]]\n",
       "     nfev: 54\n",
       "     njev: 18"
      ]
     },
     "execution_count": 36,
     "metadata": {},
     "output_type": "execute_result"
    }
   ],
   "source": [
    "scipy.optimize.minimize(f, x0=x0, method=\"BFGS\", callback=colbeck)"
   ]
  },
  {
   "cell_type": "code",
   "execution_count": null,
   "metadata": {},
   "outputs": [],
   "source": []
  }
 ],
 "metadata": {
  "kernelspec": {
   "display_name": ".venv",
   "language": "python",
   "name": "python3"
  },
  "language_info": {
   "codemirror_mode": {
    "name": "ipython",
    "version": 3
   },
   "file_extension": ".py",
   "mimetype": "text/x-python",
   "name": "python",
   "nbconvert_exporter": "python",
   "pygments_lexer": "ipython3",
   "version": "3.8.10"
  },
  "orig_nbformat": 4
 },
 "nbformat": 4,
 "nbformat_minor": 2
}
