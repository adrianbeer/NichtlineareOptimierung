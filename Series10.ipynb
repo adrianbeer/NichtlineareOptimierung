{
 "cells": [
  {
   "cell_type": "code",
   "execution_count": 16,
   "metadata": {},
   "outputs": [],
   "source": [
    "import numpy as np\n",
    "from numpy import newaxis\n",
    "\n",
    "# Rastrigin-Funktion\n",
    "def f(x):\n",
    "    n = len(x)\n",
    "    return 10*n + np.dot(x, x) - 10*np.sum(np.cos(2*np.pi*x))"
   ]
  },
  {
   "cell_type": "code",
   "execution_count": 161,
   "metadata": {},
   "outputs": [],
   "source": [
    "# (mu, lambda)-ES:\n",
    "def es_optimization(f, x0_pop, lam, mu, kappa, sigma, max_stuck_trials):\n",
    "    P = x0_pop # R^(muxn) eine Reihe pro Individuum\n",
    "    max_stuck_trials = max_stuck_trials # number of iterations to do after not improving on best result\n",
    "    stuck_trials = 0\n",
    "    status_quo_best_f = [np.inf]\n",
    "    status_quo_best_x = x0_pop[0, :]\n",
    "    n_it = 0\n",
    "\n",
    "    stop = False\n",
    "    while not stop:\n",
    "        n_it += 1\n",
    "        E = P\n",
    "        C = variation(reproduktion(E), sigma, lam)\n",
    "        assert C.shape == (lam, n)\n",
    "\n",
    "        P, best_f, best_x = selektion(f, kappa, E, C)\n",
    "        \n",
    "        print(f\"Best f={best_f} at x={best_x}\")\n",
    "\n",
    "        if best_f < status_quo_best_f:\n",
    "            stuck_trials = 0\n",
    "            status_quo_best_f, status_quo_best_x = best_f, best_x\n",
    "        else:\n",
    "            stuck_trials += 1\n",
    "        if stuck_trials == max_stuck_trials: stop = True\n",
    "        \n",
    "    print(f\"Final best f={status_quo_best_f} at x={status_quo_best_x}\")\n",
    "    print(f\"# iterations: {n_it}\")\n",
    "\n",
    "\n",
    "def variation(E, sigma, lam):\n",
    "    # mu * n * lam\n",
    "    dim = int(lam/E.shape[0])\n",
    "\n",
    "    variations_matrix = np.random.normal(loc=0, scale=sigma, size=E.shape[0]*E.shape[1]*dim).reshape((dim, E.shape[0], E.shape[1]))\n",
    "    E = E[newaxis, :, :]\n",
    "    C = (variations_matrix + E).reshape(E.shape[1]*dim, E.shape[2])\n",
    "    return C[:lam, :]\n",
    "\n",
    "\n",
    "def reproduktion(E):\n",
    "    return E\n",
    "\n",
    "\n",
    "def selektion(f, kappa, E, C):\n",
    "    if kappa == 1:\n",
    "        P = C\n",
    "    elif kappa == np.inf:\n",
    "        P = np.concatenate([E, C], axis=0)\n",
    "    else:\n",
    "        raise NotImplementedError\n",
    "\n",
    "    mu = E.shape[0]\n",
    "    funktionsauswertungen = np.apply_along_axis(f, 1, P)\n",
    "    idx_kleinste = np.argpartition(funktionsauswertungen, mu)[:mu]\n",
    "\n",
    "    best_f, best_x = np.min(funktionsauswertungen), P[np.argmin(funktionsauswertungen), :]\n",
    "\n",
    "    P = P[idx_kleinste, :]\n",
    "    return P, best_f, best_x\n"
   ]
  },
  {
   "cell_type": "code",
   "execution_count": 162,
   "metadata": {},
   "outputs": [],
   "source": [
    "lam = 500\n",
    "mu = 10\n",
    "kappa = 1\n",
    "sigma = 0.2\n",
    "n = 5\n",
    "x0_pop = np.random.normal(loc=0, scale=1, size=n*mu).reshape((mu, n))\n",
    "#x0_pop = np.zeros((mu, n)) + 5\n",
    "max_stuck_trials = 20"
   ]
  },
  {
   "cell_type": "code",
   "execution_count": 163,
   "metadata": {},
   "outputs": [
    {
     "name": "stdout",
     "output_type": "stream",
     "text": [
      "Best f=10.04119711892833 at x=[ 1.02393873  0.12336986 -0.12094969  0.09984    -0.95381095]\n",
      "Best f=3.7587676942216675 at x=[ 0.98974877  0.06211665 -0.07171228 -0.03428184  0.06258183]\n",
      "Best f=3.3417559851834895 at x=[ 1.03994089  0.04079227 -0.02356347 -0.04107438 -0.96467687]\n",
      "Best f=2.5558494458775343 at x=[ 1.07403307e+00 -3.88366836e-02 -3.94689471e-03 -1.39816409e-02\n",
      " -9.47781027e-04]\n",
      "Best f=4.862251159696598 at x=[ 1.0025255   0.04336687  0.0578396   0.0577812  -0.91688796]\n",
      "Best f=3.5617343056802184 at x=[1.07722994 0.06377486 0.04458813 0.01642755 0.00517704]\n",
      "Best f=3.576144795122417 at x=[ 1.06826188 -0.00158324  0.05859023  0.05549122  0.03560742]\n",
      "Best f=6.9626202819761716 at x=[ 0.94395608  0.1062002  -0.11366856 -0.06519854 -0.00820906]\n",
      "Best f=3.8742168690721854 at x=[ 1.04266193  0.03612122  0.07380905  0.03870988 -0.06452173]\n",
      "Best f=4.34569033431039 at x=[ 0.92856162  0.03121584 -0.06651176 -0.02812341 -1.0328249 ]\n",
      "Best f=3.111945428675199 at x=[ 0.94168211  0.02522866 -0.08330041 -0.01267483  0.01707918]\n",
      "Best f=4.741708231011081 at x=[ 0.97322643 -0.00661285 -0.03511511  0.11044064 -1.01521399]\n",
      "Best f=4.932468955131078 at x=[ 0.94622009  0.05003521 -0.00467531 -0.08789146 -1.04455918]\n",
      "Best f=4.376166588183217 at x=[ 1.08283806  0.01665679 -0.05662218 -0.0085814  -1.02555443]\n",
      "Best f=3.0590000373095094 at x=[ 0.966888   -0.01063181  0.03305059  0.05572258 -1.01311811]\n",
      "Best f=6.168908066636469 at x=[ 1.00432368 -0.03529013  0.02711883  0.01598127 -0.85267008]\n",
      "Best f=4.877557111887697 at x=[ 1.00090151  0.00666448 -0.0762657   0.0065088  -0.89981764]\n",
      "Best f=3.086188855074475 at x=[ 1.06130087 -0.01415667 -0.00614005  0.02667505 -1.009884  ]\n",
      "Best f=5.175561541965912 at x=[ 0.96729768  0.0223784  -0.11812391 -0.00408978 -1.03311104]\n",
      "Best f=3.9618397995012415 at x=[ 0.98509231  0.09239572  0.01072158 -0.03110912 -1.01645022]\n",
      "Best f=3.71007116205228 at x=[ 0.95915984  0.03820497 -0.00678292  0.0583205  -1.04545335]\n",
      "Best f=3.73637046117436 at x=[ 0.99423548 -0.02311923 -0.04475335  0.07016562 -1.03288855]\n",
      "Best f=4.4865795220938125 at x=[ 0.99603292  0.04840078 -0.02165044  0.10051158 -0.99075351]\n",
      "Best f=6.600743302112143 at x=[ 0.96198381  0.0135201  -0.07149809 -0.08607377 -0.89435249]\n",
      "Final best f=2.5558494458775343 at x=[ 1.07403307e+00 -3.88366836e-02 -3.94689471e-03 -1.39816409e-02\n",
      " -9.47781027e-04]\n",
      "# iterations: 24\n"
     ]
    }
   ],
   "source": [
    "es_optimization(f, x0_pop, lam, mu, kappa, sigma, max_stuck_trials)"
   ]
  },
  {
   "cell_type": "code",
   "execution_count": null,
   "metadata": {},
   "outputs": [],
   "source": []
  },
  {
   "cell_type": "code",
   "execution_count": null,
   "metadata": {},
   "outputs": [],
   "source": []
  }
 ],
 "metadata": {
  "kernelspec": {
   "display_name": ".venv",
   "language": "python",
   "name": "python3"
  },
  "language_info": {
   "codemirror_mode": {
    "name": "ipython",
    "version": 3
   },
   "file_extension": ".py",
   "mimetype": "text/x-python",
   "name": "python",
   "nbconvert_exporter": "python",
   "pygments_lexer": "ipython3",
   "version": "3.8.10"
  },
  "orig_nbformat": 4
 },
 "nbformat": 4,
 "nbformat_minor": 2
}
