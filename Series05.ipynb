{
 "cells": [
  {
   "cell_type": "code",
   "execution_count": 40,
   "metadata": {},
   "outputs": [],
   "source": [
    "import numpy as np\n",
    "import pandas as pd\n",
    "from functools import partial\n",
    "from matplotlib import pyplot as plt"
   ]
  },
  {
   "cell_type": "code",
   "execution_count": 41,
   "metadata": {},
   "outputs": [],
   "source": [
    "def rosenbrock(x):\n",
    "    return 100*(x[0]**2 - x[1])**2 + (1 - x[0])**2\n"
   ]
  },
  {
   "cell_type": "code",
   "execution_count": 42,
   "metadata": {},
   "outputs": [],
   "source": [
    "def partial_deriv(f, x, i):\n",
    "    # TODO: vectorize\n",
    "    eps = np.zeros(len(x))\n",
    "    eps[i] = 0.000001\n",
    "    deriv = (f(x+eps) - f(x-eps)) / (2*eps[i])\n",
    "    return deriv\n",
    "\n",
    "def gradient(f, x):\n",
    "    # gradient of f at x\n",
    "    g = np.zeros(len(x))\n",
    "    for i in range(len(x)):\n",
    "        g[i] = partial_deriv(f, x, i)\n",
    "    return g.T\n",
    "\n",
    "def hessian(f, x):\n",
    "    gradient_functions = [partial(lambda x, idx: gradient(f, x)[idx], idx=i) for i in range(len(x))]\n",
    "    hesse_matrix = np.array([gradient(g, x) for g in gradient_functions])\n",
    "    return hesse_matrix"
   ]
  },
  {
   "cell_type": "code",
   "execution_count": 43,
   "metadata": {},
   "outputs": [
    {
     "data": {
      "text/plain": [
       "array([[ 402.01442175, -400.01069124],\n",
       "       [-400.01069124,  200.02133283]])"
      ]
     },
     "execution_count": 43,
     "metadata": {},
     "output_type": "execute_result"
    }
   ],
   "source": [
    "hessian(rosenbrock, (1,2))"
   ]
  },
  {
   "cell_type": "code",
   "execution_count": 44,
   "metadata": {},
   "outputs": [],
   "source": [
    "def armijo_get_alpha(f, d, x, sigma, G):\n",
    "    alpha = 1\n",
    "    while f(x + alpha*d) >= (f(x) + sigma*alpha * np.dot(G, d)):\n",
    "        assert np.dot(G, d) <= 0\n",
    "        alpha = alpha/2\n",
    "    return alpha"
   ]
  },
  {
   "cell_type": "code",
   "execution_count": 45,
   "metadata": {},
   "outputs": [],
   "source": [
    "def armijo_newton_optimization(f, x, do_print=True):\n",
    "    eps = 0.01\n",
    "    sigma = 0.8\n",
    "    nit = 0\n",
    "    G = gradient(f, x)\n",
    "    \n",
    "    while np.sum(np.abs(G)) >= eps:\n",
    "        H = hessian(f, x)\n",
    "        d = np.linalg.solve(H, -G)\n",
    "        \n",
    "        alpha = armijo_get_alpha(f, d, x, sigma, G)\n",
    "\n",
    "        x = x + alpha*d\n",
    "        if do_print: print(f\"f={f(x)} at x={x}\")\n",
    "        G = gradient(f, x)\n",
    "        nit += 1\n",
    "        if do_print: print(f\"Iteration: {nit}, Gradient: {G}\")\n",
    "    return x"
   ]
  },
  {
   "cell_type": "code",
   "execution_count": 46,
   "metadata": {},
   "outputs": [],
   "source": [
    "\n",
    "def armijo_gradient_optimization(f, x, do_print=True):\n",
    "    eps  = 0.01\n",
    "    sigma = 0.8\n",
    "    nit = 0\n",
    "    G = gradient(f, x)\n",
    "    d = -G\n",
    "    if do_print: print(G)\n",
    "    while np.sum(np.abs(G)) >= eps:\n",
    "        alpha = armijo_get_alpha(f, d, x, sigma, G)\n",
    "        x = x + alpha*d\n",
    "        if do_print: print(f\"f={f(x)} at x={x}\")\n",
    "        G = gradient(f, x)\n",
    "        d = -G   \n",
    "        nit += 1\n",
    "        if do_print: print(f\"Iteration: {nit}, Gradient: {G}\")\n",
    "    return x"
   ]
  },
  {
   "attachments": {},
   "cell_type": "markdown",
   "metadata": {},
   "source": [
    "## Anwendung von Newton auf Rosenbrock"
   ]
  },
  {
   "cell_type": "code",
   "execution_count": 47,
   "metadata": {},
   "outputs": [
    {
     "name": "stdout",
     "output_type": "stream",
     "text": [
      "f=3.5399690462340465 at x=[-0.87497641  0.74995283]\n",
      "Iteration: 1, Gradient: [-9.22061936 -3.12617943]\n",
      "f=3.163087582121417 at x=[-0.76137068  0.55505588]\n",
      "Iteration: 2, Gradient: [-11.02359298  -4.92588682]\n",
      "f=2.903729561925053 at x=[-0.68705464  0.44804903]\n",
      "Iteration: 3, Gradient: [-9.96847141 -4.79900852]\n",
      "f=2.6602708052460993 at x=[-0.61432613  0.35411098]\n",
      "Iteration: 4, Gradient: [-8.95063558 -4.65712191]\n",
      "f=2.4316725295573507 at x=[-0.542986    0.27228014]\n",
      "Iteration: 5, Gradient: [-7.98449939 -4.51073083]\n",
      "f=2.217273174103235 at x=[-0.47298379  0.20189809]\n",
      "Iteration: 6, Gradient: [-7.07333273 -4.36311479]\n",
      "f=2.0165349287381322 at x=[-0.40431939  0.14239765]\n",
      "Iteration: 7, Gradient: [-6.21729701 -4.21530387]\n",
      "f=1.8289455479916616 at x=[-0.33700372  0.09323273]\n",
      "Iteration: 8, Gradient: [-5.41570527 -4.06775602]\n",
      "f=1.6539945492493657 at x=[-0.27104743  0.05386238]\n",
      "Iteration: 9, Gradient: [-4.66757615 -3.92086594]\n",
      "f=1.4911945145441534 at x=[-0.20647192  0.02375739]\n",
      "Iteration: 10, Gradient: [-3.9716637  -3.77465338]\n",
      "f=1.340064663325241 at x=[-0.14330183  0.00239001]\n",
      "Iteration: 11, Gradient: [-3.32671179 -3.62908179]\n",
      "f=1.2001137251446707 at x=[-0.08155547 -0.01077039]\n",
      "Iteration: 12, Gradient: [-2.73144427 -3.4843362 ]\n",
      "f=1.0708647455249356 at x=[-0.02125862 -0.01625004]\n",
      "Iteration: 13, Gradient: [-2.18454155 -3.34039414]\n",
      "f=0.9518407057378707 at x=[ 0.03756361 -0.0145755 ]\n",
      "Iteration: 14, Gradient: [-1.68466817 -3.19730489]\n",
      "f=0.8425638576918342 at x=[ 0.09488762 -0.00627228]\n",
      "Iteration: 15, Gradient: [-1.23042565 -3.05518833]\n",
      "f=0.7425623470606373 at x=[0.1506872  0.00813608]\n",
      "Iteration: 16, Gradient: [-0.82038712 -2.91411116]\n",
      "f=0.6513692898332831 at x=[0.20493409 0.02812733]\n",
      "Iteration: 17, Gradient: [-0.45310454 -2.77412926]\n",
      "f=0.5685203378662441 at x=[0.25759994 0.05318105]\n",
      "Iteration: 18, Gradient: [-0.1270755  -2.63533569]\n",
      "f=0.49355570129634657 at x=[0.30865503 0.0827788 ]\n",
      "Iteration: 19, Gradient: [ 0.15924308 -2.49782584]\n",
      "f=0.42602083537341845 at x=[0.3580679  0.11640414]\n",
      "Iteration: 20, Gradient: [ 0.40743093 -2.36169606]\n",
      "f=0.36546590782494026 at x=[0.40580606 0.15354327]\n",
      "Iteration: 21, Gradient: [ 0.6191196  -2.22705826]\n",
      "f=0.31144448048357914 at x=[0.45183806 0.19368721]\n",
      "Iteration: 22, Gradient: [ 0.79604937 -2.09408351]\n",
      "f=0.26351812554288206 at x=[0.49612936 0.23632981]\n",
      "Iteration: 23, Gradient: [ 0.9399695 -1.9629062]\n",
      "f=0.22125507384652499 at x=[0.5386443  0.28096926]\n",
      "Iteration: 24, Gradient: [ 1.05269533 -1.83368388]\n",
      "f=0.1842301613264176 at x=[0.57934706 0.32710998]\n",
      "Iteration: 25, Gradient: [ 1.13612862 -1.70660616]\n",
      "f=0.15202624598123538 at x=[0.61820115 0.37426325]\n",
      "Iteration: 26, Gradient: [ 1.1922458  -1.58188278]\n",
      "f=0.12423482334718838 at x=[0.65517016 0.42194917]\n",
      "Iteration: 27, Gradient: [ 1.22311443 -1.4597537 ]\n",
      "f=0.10045749545876981 at x=[0.69021733 0.46969758]\n",
      "Iteration: 28, Gradient: [ 1.23087457 -1.34047628]\n",
      "f=0.08030651631838076 at x=[0.72330708 0.51705141]\n",
      "Iteration: 29, Gradient: [ 1.21776674 -1.22434346]\n",
      "f=0.0634062656385505 at x=[0.75440544 0.56356917]\n",
      "Iteration: 30, Gradient: [ 1.18612485 -1.1116794 ]\n",
      "f=0.049394533462674764 at x=[0.7834814  0.60882889]\n",
      "Iteration: 31, Gradient: [ 1.1383782  -1.00284156]\n",
      "f=0.03792420464757704 at x=[0.81050801 0.65243215]\n",
      "Iteration: 32, Gradient: [ 1.07704281 -0.89821862]\n",
      "f=0.028664858317522753 at x=[0.83546449 0.69400977]\n",
      "Iteration: 33, Gradient: [ 1.00471313 -0.79822911]\n",
      "f=0.02130441708264251 at x=[0.85833928 0.73322971]\n",
      "Iteration: 34, Gradient: [ 0.92405807 -0.703323  ]\n",
      "f=0.015551673942501948 at x=[0.87913092 0.76980141]\n",
      "Iteration: 35, Gradient: [ 0.83774787 -0.61395067]\n",
      "f=0.011137682804107412 at x=[0.89785342 0.80348792]\n",
      "Iteration: 36, Gradient: [ 0.74845406 -0.53056946]\n",
      "f=0.007818173530470122 at x=[0.91453779 0.83411136]\n",
      "Iteration: 37, Gradient: [ 0.65874557 -0.45360071]\n",
      "f=0.005375022941264727 at x=[0.92923619 0.86156286]\n",
      "Iteration: 38, Gradient: [ 0.5710277  -0.38340915]\n",
      "f=0.003617619978277112 at x=[0.94202416 0.88580819]\n",
      "Iteration: 39, Gradient: [ 0.48743978 -0.32026327]\n",
      "f=0.0023834284281939256 at x=[0.95300223 0.90689174]\n",
      "Iteration: 40, Gradient: [ 0.40976344 -0.26430106]\n",
      "f=0.0015377305935119047 at x=[0.96229547 0.92493508]\n",
      "Iteration: 41, Gradient: [ 0.33933776 -0.21549868]\n",
      "f=0.0009723639670170614 at x=[0.97005043 0.94012958]\n",
      "Iteration: 42, Gradient: [ 0.27700306 -0.1736519 ]\n",
      "f=0.000603416736875897 at x=[0.97643    0.95272364]\n",
      "Iteration: 43, Gradient: [ 0.22309419 -0.13837868]\n",
      "f=0.0003681113326990758 at x=[0.98160622 0.96300506]\n",
      "Iteration: 44, Gradient: [ 0.17748271 -0.10914268]\n",
      "f=0.00022118894159625063 at x=[0.98575216 0.97128085]\n",
      "Iteration: 45, Gradient: [ 0.13966332 -0.08529477]\n",
      "f=0.0001311806472171776 at x=[0.98903418 0.97785798]\n",
      "Iteration: 46, Gradient: [ 0.10886893 -0.06612541]\n",
      "f=7.69472174400027e-05 at x=[0.9916056  0.98302708]\n",
      "Iteration: 47, Gradient: [ 0.08418935 -0.05091649]\n",
      "f=4.4727294659567004e-05 at x=[0.99360252 0.98705105]\n",
      "Iteration: 48, Gradient: [ 0.06467605 -0.03898491]\n",
      "f=2.5808432593999563e-05 at x=[0.99514188 0.9901588 ]\n",
      "Iteration: 49, Gradient: [ 0.04942028 -0.02971261]\n",
      "f=1.4805051959318929e-05 at x=[0.99632136 0.99254345]\n",
      "Iteration: 50, Gradient: [ 0.03760211 -0.02256269]\n",
      "f=8.453977002950481e-06 at x=[0.99722073 0.99436377]\n",
      "Iteration: 51, Gradient: [ 0.02851408 -0.01708379]\n",
      "f=4.810154306781815e-06 at x=[0.99790388 0.99574762]\n",
      "Iteration: 52, Gradient: [ 0.02156601 -0.01290618]\n",
      "f=2.7293482518684503e-06 at x=[0.99842123 0.99679629]\n",
      "Iteration: 53, Gradient: [ 0.01627806 -0.00973317]\n",
      "f=1.5454005590380736e-06 at x=[0.99881212 0.997589  ]\n",
      "Iteration: 54, Gradient: [ 0.01226769 -0.00733043]\n",
      "f=8.736217814957093e-07 at x=[0.99910693 0.99818708]\n",
      "Iteration: 55, Gradient: [ 0.00923442 -0.00551521]\n",
      "f=4.93258495281858e-07 at x=[0.99932897 0.99863766]\n",
      "Iteration: 56, Gradient: [ 0.00694491 -0.00414627]\n",
      "f=2.782425353105655e-07 at x=[0.99949604 0.99897675]\n",
      "Iteration: 57, Gradient: [ 0.0052195  -0.00311528]\n"
     ]
    },
    {
     "data": {
      "text/plain": [
       "array([0.99949604, 0.99897675])"
      ]
     },
     "execution_count": 47,
     "metadata": {},
     "output_type": "execute_result"
    }
   ],
   "source": [
    "armijo_newton_optimization(rosenbrock, (-1, 1))"
   ]
  },
  {
   "attachments": {},
   "cell_type": "markdown",
   "metadata": {},
   "source": [
    "## Lösung von empirischem Least Squares Problem"
   ]
  },
  {
   "cell_type": "code",
   "execution_count": 48,
   "metadata": {},
   "outputs": [],
   "source": [
    "x_values = pd.read_table(\"Serie05_Daten/x_values.txt\").values.flatten()\n",
    "y_values = x_values = pd.read_table(\"Serie05_Daten/y_values.txt\").values.flatten()\n",
    "df = pd.DataFrame.from_dict({\"X\":x_values, \"Y\":y_values})"
   ]
  },
  {
   "cell_type": "code",
   "execution_count": 49,
   "metadata": {},
   "outputs": [],
   "source": [
    "df = df.dropna()"
   ]
  },
  {
   "cell_type": "code",
   "execution_count": 50,
   "metadata": {},
   "outputs": [
    {
     "data": {
      "text/plain": [
       "<matplotlib.collections.PathCollection at 0x7f7217cda280>"
      ]
     },
     "execution_count": 50,
     "metadata": {},
     "output_type": "execute_result"
    },
    {
     "data": {
      "image/png": "[encoded data removed]",
      "text/plain": [
       "<Figure size 640x480 with 1 Axes>"
      ]
     },
     "metadata": {},
     "output_type": "display_data"
    }
   ],
   "source": [
    "plt.scatter(x=df.X, y=df.Y)"
   ]
  },
  {
   "cell_type": "code",
   "execution_count": 51,
   "metadata": {},
   "outputs": [],
   "source": [
    "def loss(theta):\n",
    "    return np.mean(np.square(theta[0]*df.X + theta[1] - df.Y))"
   ]
  },
  {
   "cell_type": "code",
   "execution_count": 52,
   "metadata": {},
   "outputs": [
    {
     "data": {
      "text/plain": [
       "4.0"
      ]
     },
     "execution_count": 52,
     "metadata": {},
     "output_type": "execute_result"
    }
   ],
   "source": [
    "loss((1, 2))"
   ]
  },
  {
   "cell_type": "code",
   "execution_count": 53,
   "metadata": {},
   "outputs": [
    {
     "name": "stdout",
     "output_type": "stream",
     "text": [
      "f=0.5624917021099177 at x=[1.00001212 0.74993278]\n",
      "Iteration: 1, Gradient: [7.63755464 1.49998894]\n",
      "f=0.31640862176027185 at x=[0.99999653 0.56251978]\n",
      "Iteration: 2, Gradient: [5.72815916 1.12500422]\n",
      "f=0.17797969484817422 at x=[0.99999821 0.42188552]\n",
      "Iteration: 3, Gradient: [4.29612206 0.8437528 ]\n",
      "f=0.1001137228265128 at x=[0.99999808 0.31641731]\n",
      "Iteration: 4, Gradient: [3.22209063 0.63281505]\n",
      "f=0.05631392008717201 at x=[0.99999882 0.23731155]\n",
      "Iteration: 5, Gradient: [2.41656839 0.47461108]\n",
      "f=0.03167646089259533 at x=[0.9999997  0.17798033]\n",
      "Iteration: 6, Gradient: [1.81242619 0.35595764]\n",
      "f=0.017818333685601765 at x=[0.99999759 0.13349761]\n",
      "Iteration: 7, Gradient: [1.35931972 0.26697066]\n",
      "f=0.010022688022331114 at x=[0.99999933 0.10011681]\n",
      "Iteration: 8, Gradient: [1.01948982 0.20022675]\n",
      "f=0.005637828821367863 at x=[0.99999869 0.07509216]\n",
      "Iteration: 9, Gradient: [0.76461737 0.15017095]\n",
      "f=0.0031712647176339558 at x=[0.99999924 0.05631784]\n",
      "Iteration: 10, Gradient: [0.57346303 0.11262797]\n",
      "f=0.0017838365922265814 at x=[0.99999943 0.0422384 ]\n",
      "Iteration: 11, Gradient: [0.43009727 0.08447098]\n",
      "f=0.0010034119790366517 at x=[0.99999946 0.03167943]\n",
      "Iteration: 12, Gradient: [0.32257296 0.06335336]\n",
      "f=0.0005644192672680425 at x=[0.99999959 0.02375958]\n",
      "Iteration: 13, Gradient: [0.24192972 0.04751502]\n",
      "f=0.00031748652844887446 at x=[0.99999966 0.01781988]\n",
      "Iteration: 14, Gradient: [0.18144729 0.0356363 ]\n"
     ]
    },
    {
     "name": "stdout",
     "output_type": "stream",
     "text": [
      "f=0.0001785862072649999 at x=[0.99999974 0.01336493]\n",
      "Iteration: 15, Gradient: [0.13608547 0.02672723]\n",
      "f=0.00010045459243281684 at x=[0.99999982 0.01002362]\n",
      "Iteration: 16, Gradient: [0.1020641  0.02004541]\n",
      "f=5.65057686717293e-05 at x=[0.99999986 0.00751775]\n",
      "Iteration: 17, Gradient: [0.07654807 0.01503406]\n",
      "f=3.178451664523273e-05 at x=[0.99999989 0.00563834]\n",
      "Iteration: 18, Gradient: [0.05741106 0.01127555]\n",
      "f=1.7878792210607685e-05 at x=[0.99999992 0.00422875]\n",
      "Iteration: 19, Gradient: [0.04305829 0.00845666]\n",
      "f=1.0056825165379581e-05 at x=[0.99999994 0.00317157]\n",
      "Iteration: 20, Gradient: [0.03229372 0.0063425 ]\n",
      "f=5.656964070624435e-06 at x=[0.99999995 0.00237868]\n",
      "Iteration: 21, Gradient: [0.02422029 0.00475687]\n",
      "f=3.1820422045769497e-06 at x=[0.99999996 0.00178401]\n",
      "Iteration: 22, Gradient: [0.01816522 0.00356766]\n",
      "f=1.7898990952852237e-06 at x=[0.99999997 0.00133801]\n",
      "Iteration: 23, Gradient: [0.01362391 0.00267574]\n",
      "f=1.006818118551617e-06 at x=[0.99999998 0.00100351]\n",
      "Iteration: 24, Gradient: [0.01021793 0.00200681]\n",
      "f=5.66335243472399e-07 at x=[9.99999985e-01 7.52629525e-04]\n",
      "Iteration: 25, Gradient: [0.00766345 0.0015051 ]\n"
     ]
    }
   ],
   "source": [
    "theta = armijo_newton_optimization(loss, (1,1))"
   ]
  },
  {
   "cell_type": "code",
   "execution_count": 54,
   "metadata": {},
   "outputs": [
    {
     "name": "stdout",
     "output_type": "stream",
     "text": [
      "[10.18339057  2.        ]\n",
      "f=0.6279846146739692 at x=[0.96022113 0.9921875 ]\n",
      "Iteration: 1, Gradient: [7.81781381 1.57929124]\n",
      "f=0.4082524504734748 at x=[0.9296828  0.98601839]\n",
      "Iteration: 2, Gradient: [6.00000901 1.25596923]\n",
      "f=0.27844426680303125 at x=[0.90624526 0.98111226]\n",
      "Iteration: 3, Gradient: [4.6031356 1.0074834]\n",
      "f=0.20173666319259584 at x=[0.88826426 0.97717678]\n",
      "Iteration: 4, Gradient: [3.52972389 0.8165049 ]\n",
      "f=0.1563852628355658 at x=[0.87447628 0.97398731]\n",
      "Iteration: 5, Gradient: [2.70487398 0.66971753]\n",
      "f=0.12954991738931296 at x=[0.86391036 0.97137123]\n",
      "Iteration: 6, Gradient: [2.07102958 0.55688853]\n",
      "f=0.11364846379759551 at x=[0.8558204  0.96919588]\n",
      "Iteration: 7, Gradient: [1.58396199 0.47015463]\n",
      "f=0.10420360197581012 at x=[0.84963305 0.96735934]\n",
      "Iteration: 8, Gradient: [1.20968397 0.40347333]\n",
      "f=0.09857146680613901 at x=[0.84490772 0.96578327]\n",
      "Iteration: 9, Gradient: [0.92207828 0.35220133]\n",
      "f=0.09519084442179775 at x=[0.84130586 0.96440748]\n",
      "Iteration: 10, Gradient: [0.70107532 0.31277053]\n",
      "f=0.09313983118524302 at x=[0.83856728 0.96318572]\n",
      "Iteration: 11, Gradient: [0.53125273 0.28243902]\n",
      "f=0.09187403890511424 at x=[0.83649208 0.96208245]\n",
      "Iteration: 12, Gradient: [0.40075932 0.25909983]\n",
      "f=0.09044512351690048 at x=[0.83336114 0.96005823]\n",
      "Iteration: 13, Gradient: [0.20021697 0.22316789]\n",
      "f=0.08984396761270366 at x=[0.83179695 0.95831473]\n",
      "Iteration: 14, Gradient: [0.0925708  0.20375209]\n",
      "f=0.08917854485713249 at x=[0.83035053 0.9551311 ]\n",
      "Iteration: 15, Gradient: [-0.02297236  0.18265539]\n",
      "f=0.061084873693627785 at x=[0.85332289 0.77247572]\n",
      "Iteration: 16, Gradient: [-0.56284413  0.05128109]\n",
      "f=0.05997157904091531 at x=[0.8555215 0.7722754]\n",
      "Iteration: 17, Gradient: [-0.43853393  0.07326976]\n",
      "f=0.059278797566938 at x=[0.85723452 0.77198919]\n",
      "Iteration: 18, Gradient: [-0.34300421  0.09014172]\n",
      "f=0.05848377655473983 at x=[0.85991424 0.77128496]\n",
      "Iteration: 19, Gradient: [-0.19617704  0.1160219 ]\n",
      "f=0.05813211450120066 at x=[0.86144687 0.77037854]\n",
      "Iteration: 20, Gradient: [-0.11732985  0.12981646]\n",
      "f=0.05771651798541937 at x=[0.86328015 0.76835015]\n",
      "Iteration: 21, Gradient: [-0.03263046  0.14442869]\n",
      "f=0.03925428053905453 at x=[0.89591062 0.62392147]\n",
      "Iteration: 22, Gradient: [0.37180907 0.18786008]\n",
      "f=0.038648419476214294 at x=[0.89445824 0.62318764]\n",
      "Iteration: 23, Gradient: [0.28087063 0.17160228]\n",
      "f=0.038267760343883475 at x=[0.89336109 0.62251732]\n",
      "Iteration: 24, Gradient: [0.21099323 0.15908892]\n",
      "f=0.03782271697975299 at x=[0.8917127  0.62127444]\n",
      "Iteration: 25, Gradient: [0.10360682 0.13981701]\n",
      "f=0.03761515240339462 at x=[0.89090327 0.62018212]\n",
      "Iteration: 26, Gradient: [0.04596693 0.12938965]\n",
      "f=0.03735424563139232 at x=[0.89018504 0.6181604 ]\n",
      "Iteration: 27, Gradient: [-0.01589652  0.11803217]\n",
      "f=0.025255527052259034 at x=[0.90608156 0.50012823]\n",
      "Iteration: 28, Gradient: [-0.30432015  0.04384832]\n",
      "f=0.024924816667522616 at x=[0.90727031 0.49995695]\n",
      "Iteration: 29, Gradient: [-0.23774906  0.05561126]\n",
      "f=0.02455016034080205 at x=[0.90912773 0.49952248]\n",
      "Iteration: 30, Gradient: [-0.13543114  0.07365711]\n",
      "f=0.024390779160783235 at x=[0.91018578 0.49894704]\n",
      "Iteration: 31, Gradient: [-0.0804866   0.08328082]\n",
      "f=0.024211662026623927 at x=[0.91144339 0.49764577]\n",
      "Iteration: 32, Gradient: [-0.02146571  0.09348496]\n",
      "f=0.01655566043577476 at x=[0.9329091  0.40416082]\n",
      "Iteration: 33, Gradient: [0.2601357  0.12510876]\n",
      "f=0.01626514671086399 at x=[0.93189294 0.40367211]\n",
      "Iteration: 34, Gradient: [0.19676244 0.11378345]\n",
      "f=0.016083992591219887 at x=[0.93112434 0.40322765]\n",
      "Iteration: 35, Gradient: [0.14806603 0.10506753]\n",
      "f=0.015875263621323212 at x=[0.92996757 0.40240681]\n",
      "Iteration: 36, Gradient: [0.07322988 0.09164605]\n",
      "f=0.015781839883779326 at x=[0.92939546 0.40169082]\n",
      "Iteration: 37, Gradient: [0.0330607  0.08438807]\n",
      "f=0.015669833066916522 at x=[0.92887889 0.40037226]\n",
      "Iteration: 38, Gradient: [-0.01005328  0.07649048]\n",
      "f=0.010642047913332042 at x=[0.93893217 0.32388178]\n",
      "Iteration: 39, Gradient: [-0.21124195  0.02588601]\n",
      "f=0.010483846607308079 at x=[0.93975734 0.32378066]\n",
      "Iteration: 40, Gradient: [-0.16485101  0.03408675]\n",
      "f=0.010306696886899456 at x=[0.94104523 0.32351436]\n",
      "Iteration: 41, Gradient: [-0.0935497   0.04666931]\n",
      "f=0.010234077318339651 at x=[0.94177609 0.32314975]\n",
      "Iteration: 42, Gradient: [-0.05526158  0.05338271]\n",
      "f=0.010156618910290327 at x=[0.94263955 0.32231565]\n",
      "Iteration: 43, Gradient: [-0.014134    0.06050747]\n",
      "f=0.00698809220339703 at x=[0.95677355 0.26180818]\n",
      "Iteration: 44, Gradient: [0.18194994 0.08342457]\n",
      "f=0.00684856653923267 at x=[0.95606281 0.2614823 ]\n",
      "Iteration: 45, Gradient: [0.13778636 0.07553505]\n",
      "f=0.006762147013779604 at x=[0.95552458 0.26118724]\n",
      "Iteration: 46, Gradient: [0.10385069 0.06946395]\n",
      "f=0.006663885105681527 at x=[0.95471325 0.26064455]\n",
      "Iteration: 47, Gradient: [0.05169844 0.06011645]\n",
      "f=0.0066216098395814665 at x=[0.95430936 0.26017489]\n",
      "Iteration: 48, Gradient: [0.02370466 0.05506412]\n",
      "f=0.0065733813866677695 at x=[0.95393897 0.25931452]\n",
      "Iteration: 49, Gradient: [-0.00634226  0.04957159]\n",
      "f=0.004487348302739254 at x=[0.96028123 0.20974293]\n",
      "Iteration: 50, Gradient: [-0.14667088  0.01501414]\n",
      "f=0.004411528421372097 at x=[0.96085417 0.20968428]\n",
      "Iteration: 51, Gradient: [-0.11434271  0.02073124]\n",
      "f=0.0043641488621581235 at x=[0.96130082 0.2096033 ]\n",
      "Iteration: 52, Gradient: [-0.08949914  0.02511771]\n",
      "f=0.004309330373174672 at x=[0.96200003 0.20940707]\n",
      "Iteration: 53, Gradient: [-0.05131501  0.03184559]\n",
      "f=0.00428449960841485 at x=[0.96240093 0.20915828]\n",
      "Iteration: 54, Gradient: [-0.03080967  0.03543051]\n",
      "f=0.00425430500536021 at x=[0.96288233 0.20860467]\n",
      "Iteration: 55, Gradient: [-0.00878197  0.0392256 ]\n",
      "f=0.0028852864121495115 at x=[0.9716643  0.16937907]\n",
      "Iteration: 56, Gradient: [0.0964522  0.05020463]\n",
      "f=0.002843970522289756 at x=[0.97128753 0.16918296]\n",
      "Iteration: 57, Gradient: [0.07280304 0.04597565]\n",
      "f=0.002797553322079954 at x=[0.97071876 0.16882378]\n",
      "Iteration: 58, Gradient: [0.03645893 0.03946523]\n",
      "f=0.0027783211332978717 at x=[0.97043392 0.16851546]\n",
      "Iteration: 59, Gradient: [0.0169502 0.035948 ]\n",
      "f=0.0027574862934055012 at x=[0.97016908 0.16795377]\n",
      "Iteration: 60, Gradient: [-0.00398995  0.03212758]\n",
      "f=0.0018936218312337967 at x=[0.97415903 0.13582618]\n",
      "Iteration: 61, Gradient: [-0.10186256  0.00850363]\n",
      "f=0.0018572240147394267 at x=[0.97455693 0.13579297]\n",
      "Iteration: 62, Gradient: [-0.0793342   0.01248917]\n",
      "f=0.0018346370822119053 at x=[0.97486683 0.13574418]\n",
      "Iteration: 63, Gradient: [-0.06202167  0.01554743]\n",
      "f=0.0018088580739852006 at x=[0.97535137 0.13562272]\n",
      "Iteration: 64, Gradient: [-0.03541271  0.0202388 ]\n",
      "f=0.0017976395488965551 at x=[0.97562803 0.1354646 ]\n",
      "Iteration: 65, Gradient: [-0.02112361  0.02273993]\n",
      "f=0.0017846500338942093 at x=[0.97595809 0.13510929]\n",
      "Iteration: 66, Gradient: [-0.00577415  0.0253904 ]\n",
      "f=0.001216360489969535 at x=[0.98173223 0.10971889]\n",
      "Iteration: 67, Gradient: [0.06749512 0.03340998]\n",
      "f=0.001196569767328482 at x=[0.98146858 0.10958838]\n",
      "Iteration: 68, Gradient: [0.05101446 0.03046409]\n",
      "f=0.0011841753078531629 at x=[0.98126931 0.10946938]\n",
      "Iteration: 69, Gradient: [0.03835065 0.02819679]\n",
      "f=0.0011697735696001267 at x=[0.98096969 0.1092491 ]\n",
      "Iteration: 70, Gradient: [0.01888908 0.02470512]\n",
      "f=0.0011631708329659127 at x=[0.98082212 0.10905609]\n",
      "Iteration: 71, Gradient: [0.00844297 0.02281633]\n",
      "f=0.0011550289789368008 at x=[0.9806902  0.10869958]\n",
      "Iteration: 72, Gradient: [-0.00276874  0.02075991]\n",
      "f=0.0007823069267845643 at x=[0.98345894 0.08793967]\n",
      "Iteration: 73, Gradient: [-0.05506038  0.00743529]\n",
      "f=0.0007715150583372856 at x=[0.98367402 0.08791062]\n",
      "Iteration: 74, Gradient: [-0.04299591  0.00956744]\n",
      "f=0.000759349415145318 at x=[0.98400993 0.08783588]\n",
      "Iteration: 75, Gradient: [-0.0244532   0.01283861]\n",
      "f=0.000754253751808651 at x=[0.98420097 0.08773558]\n",
      "Iteration: 76, Gradient: [-0.01449585  0.01458345]\n",
      "f=0.0007486478372672488 at x=[0.98442747 0.08750771]\n",
      "Iteration: 77, Gradient: [-0.0037999   0.01643423]\n",
      "f=0.0005131700997981886 at x=[0.98822736 0.07107348]\n",
      "Iteration: 78, Gradient: [0.047217   0.02226159]\n",
      "f=0.000503673864601831 at x=[0.98804292 0.07098652]\n",
      "Iteration: 79, Gradient: [0.03573195 0.02020943]\n",
      "f=0.000497769316172541 at x=[0.98790334 0.07090758]\n",
      "Iteration: 80, Gradient: [0.02690675 0.01863017]\n",
      "f=0.0004910041350450073 at x=[0.98769313 0.07076203]\n",
      "Iteration: 81, Gradient: [0.01334425 0.01619843]\n",
      "f=0.00048802571600698667 at x=[0.98758888 0.07063548]\n",
      "Iteration: 82, Gradient: [0.00606437 0.0148837 ]\n",
      "f=0.0004845262429476174 at x=[0.98749413 0.07040292]\n",
      "Iteration: 83, Gradient: [-0.0017493   0.01345365]\n",
      "f=0.0003297334003320266 at x=[0.98924342 0.05694928]\n",
      "Iteration: 84, Gradient: [-0.03822404  0.00436014]\n",
      "f=0.0003245668035902214 at x=[0.98939274 0.05693225]\n",
      "Iteration: 85, Gradient: [-0.02981676  0.00584659]\n",
      "f=0.0003213236992709301 at x=[0.98950921 0.05690941]\n",
      "Iteration: 86, Gradient: [-0.02335591  0.00698699]\n",
      "f=0.00031753884130952164 at x=[0.98969168 0.05685482]\n",
      "Iteration: 87, Gradient: [-0.01342568  0.00873596]\n",
      "f=0.00031578229912363566 at x=[0.98979656 0.05678657]\n",
      "Iteration: 88, Gradient: [-0.00809296  0.00966758]\n",
      "f=0.00031358634501358804 at x=[0.98992302 0.05663552]\n",
      "Iteration: 89, Gradient: [-0.00236423  0.01065318]\n",
      "f=0.0002121235930924977 at x=[0.99228724 0.04598234]\n",
      "Iteration: 90, Gradient: [0.02501808 0.01342267]\n",
      "f=0.00020930422882092106 at x=[0.99218952 0.0459299 ]\n",
      "Iteration: 91, Gradient: [0.01886796 0.01232261]\n",
      "f=0.00020611480559058472 at x=[0.99204211 0.04583363]\n",
      "Iteration: 92, Gradient: [0.00941645 0.01062898]\n",
      "f=0.00020476406844707835 at x=[0.99196855 0.04575059]\n",
      "Iteration: 93, Gradient: [0.00434313 0.00971375]\n",
      "f=0.0002032552598369361 at x=[0.99190068 0.04559882]\n",
      "Iteration: 94, Gradient: [-0.00110235  0.00871914]\n"
     ]
    }
   ],
   "source": [
    "theta = armijo_gradient_optimization(loss, (1,1))"
   ]
  },
  {
   "cell_type": "code",
   "execution_count": 55,
   "metadata": {},
   "outputs": [
    {
     "name": "stdout",
     "output_type": "stream",
     "text": [
      "1.04 s ± 105 ms per loop (mean ± std. dev. of 7 runs, 1 loop each)\n"
     ]
    }
   ],
   "source": [
    "%%timeit\n",
    "armijo_gradient_optimization(loss, (1,1), do_print=False)"
   ]
  },
  {
   "cell_type": "code",
   "execution_count": 56,
   "metadata": {},
   "outputs": [
    {
     "name": "stdout",
     "output_type": "stream",
     "text": [
      "653 ms ± 76.1 ms per loop (mean ± std. dev. of 7 runs, 1 loop each)\n"
     ]
    }
   ],
   "source": [
    "%%timeit\n",
    "armijo_newton_optimization(loss, (1,1), do_print=False)"
   ]
  },
  {
   "cell_type": "code",
   "execution_count": 57,
   "metadata": {},
   "outputs": [
    {
     "data": {
      "text/plain": [
       "0.0002032552598369361"
      ]
     },
     "execution_count": 57,
     "metadata": {},
     "output_type": "execute_result"
    }
   ],
   "source": [
    "loss(theta)"
   ]
  },
  {
   "cell_type": "code",
   "execution_count": 58,
   "metadata": {},
   "outputs": [
    {
     "data": {
      "text/plain": [
       "array([0.99190068, 0.04559882])"
      ]
     },
     "execution_count": 58,
     "metadata": {},
     "output_type": "execute_result"
    }
   ],
   "source": [
    "theta"
   ]
  },
  {
   "cell_type": "code",
   "execution_count": null,
   "metadata": {},
   "outputs": [],
   "source": []
  }
 ],
 "metadata": {
  "kernelspec": {
   "display_name": ".venv",
   "language": "python",
   "name": "python3"
  },
  "language_info": {
   "codemirror_mode": {
    "name": "ipython",
    "version": 3
   },
   "file_extension": ".py",
   "mimetype": "text/x-python",
   "name": "python",
   "nbconvert_exporter": "python",
   "pygments_lexer": "ipython3",
   "version": "3.8.10"
  },
  "orig_nbformat": 4
 },
 "nbformat": 4,
 "nbformat_minor": 2
}
