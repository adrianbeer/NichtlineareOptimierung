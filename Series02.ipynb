{
 "cells": [
  {
   "cell_type": "code",
   "execution_count": 1,
   "metadata": {},
   "outputs": [],
   "source": [
    "import numpy as np"
   ]
  },
  {
   "attachments": {},
   "cell_type": "markdown",
   "metadata": {},
   "source": [
    "## Aufgabe 3"
   ]
  },
  {
   "cell_type": "code",
   "execution_count": 31,
   "metadata": {},
   "outputs": [],
   "source": [
    "def partial_deriv(f, x, i):\n",
    "    # TODO: vectorize\n",
    "    eps = np.zeros(len(x))\n",
    "    eps[i] = 0.001\n",
    "    deriv = (f(x+eps) - f(x))/eps[i]\n",
    "    return deriv\n",
    "\n",
    "def gradient(f, x):\n",
    "    # gradient of f at x\n",
    "    g = np.zeros(len(x))\n",
    "    for i in range(len(x)):\n",
    "        g[i] = partial_deriv(f, x, i)\n",
    "    return g.T"
   ]
  },
  {
   "cell_type": "code",
   "execution_count": 34,
   "metadata": {},
   "outputs": [
    {
     "data": {
      "text/plain": [
       "array([ 4.001, 10.001])"
      ]
     },
     "execution_count": 34,
     "metadata": {},
     "output_type": "execute_result"
    }
   ],
   "source": [
    "f = lambda x: np.sum(np.square(x))\n",
    "gradient(f, (2, 5))"
   ]
  },
  {
   "attachments": {},
   "cell_type": "markdown",
   "metadata": {},
   "source": [
    "## Aufgabe 2"
   ]
  },
  {
   "cell_type": "code",
   "execution_count": 47,
   "metadata": {},
   "outputs": [],
   "source": [
    "def rosenbrock(x):\n",
    "    return 100*(x[0]**2 - x[1])**2 + (1 - x[0])**2\n",
    "\n",
    "def rosenbrock_scaled(x, alpha):\n",
    "    y = (x[0]*alpha, x[1]/alpha)\n",
    "    return rosenbrock(y)\n",
    "\n",
    "def himmelblaus_function(x):\n",
    "    return (x[0]**2 + x[1] - 11)**2 + (x[0] + x[1]**2 - 7)**2"
   ]
  },
  {
   "cell_type": "code",
   "execution_count": 41,
   "metadata": {},
   "outputs": [],
   "source": [
    "def f_approx(x, f_x, f_dot_x, x_tilde):\n",
    "    d = (x_tilde - x)\n",
    "    \n",
    "    euclid_distance = np.sqrt(np.dot(d, d))\n",
    "    \n",
    "    d = d/sum(d) # Normalisieren\n",
    "\n",
    "    f_x_tilde = f_x + np.dot(d, f_dot_x) * euclid_distance # Richtungsableitung + Euklidsche Distanz\n",
    "\n",
    "    return f_x_tilde"
   ]
  },
  {
   "cell_type": "code",
   "execution_count": 65,
   "metadata": {},
   "outputs": [],
   "source": [
    "x = np.array((1,1))\n",
    "x_tilde = np.array((1,3))\n",
    "f = himmelblaus_function"
   ]
  },
  {
   "cell_type": "code",
   "execution_count": 66,
   "metadata": {},
   "outputs": [
    {
     "data": {
      "text/plain": [
       "array([-46.012996, -38.004996])"
      ]
     },
     "execution_count": 66,
     "metadata": {},
     "output_type": "execute_result"
    }
   ],
   "source": [
    "f_dot_x = gradient(f, x)\n",
    "f_dot_x"
   ]
  },
  {
   "cell_type": "code",
   "execution_count": 69,
   "metadata": {},
   "outputs": [
    {
     "data": {
      "text/plain": [
       "106"
      ]
     },
     "execution_count": 69,
     "metadata": {},
     "output_type": "execute_result"
    }
   ],
   "source": [
    "f(x)"
   ]
  },
  {
   "cell_type": "code",
   "execution_count": 67,
   "metadata": {},
   "outputs": [
    {
     "data": {
      "text/plain": [
       "29.990008002022023"
      ]
     },
     "execution_count": 67,
     "metadata": {},
     "output_type": "execute_result"
    }
   ],
   "source": [
    "f_approx(x, f(x), f_dot_x, x_tilde)"
   ]
  },
  {
   "cell_type": "code",
   "execution_count": 68,
   "metadata": {},
   "outputs": [
    {
     "data": {
      "text/plain": [
       "58"
      ]
     },
     "execution_count": 68,
     "metadata": {},
     "output_type": "execute_result"
    }
   ],
   "source": [
    "f(x_tilde)"
   ]
  },
  {
   "cell_type": "code",
   "execution_count": null,
   "metadata": {},
   "outputs": [],
   "source": []
  }
 ],
 "metadata": {
  "kernelspec": {
   "display_name": ".venv",
   "language": "python",
   "name": "python3"
  },
  "language_info": {
   "codemirror_mode": {
    "name": "ipython",
    "version": 3
   },
   "file_extension": ".py",
   "mimetype": "text/x-python",
   "name": "python",
   "nbconvert_exporter": "python",
   "pygments_lexer": "ipython3",
   "version": "3.8.10"
  },
  "orig_nbformat": 4
 },
 "nbformat": 4,
 "nbformat_minor": 2
}
