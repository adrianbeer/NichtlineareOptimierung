{
 "cells": [
  {
   "cell_type": "code",
   "execution_count": 33,
   "metadata": {},
   "outputs": [],
   "source": [
    "import pandas as pd\n",
    "import scipy\n",
    "import numpy as np"
   ]
  },
  {
   "cell_type": "code",
   "execution_count": 34,
   "metadata": {},
   "outputs": [],
   "source": [
    "x_values = pd.read_table(\"Serie07_Daten/x_values.txt\").values.flatten()\n",
    "y_values = x_values = pd.read_table(\"Serie07_Daten/y_values.txt\").values.flatten()\n",
    "df = pd.DataFrame.from_dict({\"X\":x_values, \"Y\":y_values})\n",
    "df = df.dropna()"
   ]
  },
  {
   "cell_type": "code",
   "execution_count": 35,
   "metadata": {},
   "outputs": [],
   "source": [
    "def loss_function(theta):\n",
    "    loss = np.mean(np.square((theta[0] + theta[1]*df.X) - df.Y))\n",
    "    return loss"
   ]
  },
  {
   "cell_type": "code",
   "execution_count": 42,
   "metadata": {},
   "outputs": [
    {
     "data": {
      "text/plain": [
       "  message: Optimization terminated successfully.\n",
       "  success: True\n",
       "   status: 0\n",
       "      fun: 2.9684702266728435e-11\n",
       "        x: [-6.971e-06  1.000e+00]\n",
       "      nit: 7\n",
       "      jac: [-3.973e-06  3.181e-06]\n",
       " hess_inv: [[ 9.569e-01 -9.273e-01]\n",
       "            [-9.273e-01  1.874e+00]]\n",
       "     nfev: 24\n",
       "     njev: 8"
      ]
     },
     "execution_count": 42,
     "metadata": {},
     "output_type": "execute_result"
    }
   ],
   "source": [
    "res_bfgs = scipy.optimize.minimize(loss_function, (0,0), method=\"BFGS\")\n",
    "res_bfgs"
   ]
  },
  {
   "cell_type": "code",
   "execution_count": 43,
   "metadata": {},
   "outputs": [
    {
     "data": {
      "text/plain": [
       "  message: CONVERGENCE: NORM_OF_PROJECTED_GRADIENT_<=_PGTOL\n",
       "  success: True\n",
       "   status: 0\n",
       "      fun: 2.601206472667362e-12\n",
       "        x: [ 2.260e-06  1.000e+00]\n",
       "      nit: 6\n",
       "      jac: [ 2.292e-06 -1.548e-08]\n",
       "     nfev: 21\n",
       "     njev: 7\n",
       " hess_inv: <2x2 LbfgsInvHessProduct with dtype=float64>"
      ]
     },
     "execution_count": 43,
     "metadata": {},
     "output_type": "execute_result"
    }
   ],
   "source": [
    "res_lbfgs = scipy.optimize.minimize(loss_function, (0,0), method=\"L-BFGS-B\")\n",
    "res_lbfgs "
   ]
  },
  {
   "cell_type": "code",
   "execution_count": 44,
   "metadata": {},
   "outputs": [
    {
     "data": {
      "text/plain": [
       "       message: Optimization terminated successfully.\n",
       "       success: True\n",
       "        status: 0\n",
       "           fun: 4.931943985429572e-10\n",
       "             x: [ 2.053e-05  1.000e+00]\n",
       "           nit: 58\n",
       "          nfev: 113\n",
       " final_simplex: (array([[ 2.053e-05,  1.000e+00],\n",
       "                       [-3.135e-05,  1.000e+00],\n",
       "                       [-6.862e-05,  1.000e+00]]), array([ 4.932e-10,  2.393e-09,  2.831e-09]))"
      ]
     },
     "execution_count": 44,
     "metadata": {},
     "output_type": "execute_result"
    }
   ],
   "source": [
    "res_nm = scipy.optimize.minimize(loss_function, (0,0), method=\"Nelder-Mead\")\n",
    "res_nm"
   ]
  },
  {
   "cell_type": "code",
   "execution_count": 38,
   "metadata": {},
   "outputs": [
    {
     "name": "stdout",
     "output_type": "stream",
     "text": [
      "226 ms ± 16.1 ms per loop (mean ± std. dev. of 7 runs, 1 loop each)\n"
     ]
    }
   ],
   "source": [
    "%%timeit\n",
    "scipy.optimize.minimize(loss_function, (0,0), method=\"BFGS\")"
   ]
  },
  {
   "cell_type": "code",
   "execution_count": 54,
   "metadata": {},
   "outputs": [
    {
     "name": "stdout",
     "output_type": "stream",
     "text": [
      "Iterations: 7, Time per iteration (ms): 32.285714285714285\n"
     ]
    }
   ],
   "source": [
    "print(f\"Iterations: {res_bfgs.nit}, Time per iteration (ms): {226/res_bfgs.nit}\")"
   ]
  },
  {
   "cell_type": "code",
   "execution_count": 39,
   "metadata": {},
   "outputs": [
    {
     "name": "stdout",
     "output_type": "stream",
     "text": [
      "187 ms ± 9.43 ms per loop (mean ± std. dev. of 7 runs, 10 loops each)\n"
     ]
    }
   ],
   "source": [
    "%%timeit\n",
    "scipy.optimize.minimize(loss_function, (0,0), method=\"L-BFGS-B\")"
   ]
  },
  {
   "cell_type": "code",
   "execution_count": 53,
   "metadata": {},
   "outputs": [
    {
     "name": "stdout",
     "output_type": "stream",
     "text": [
      "Iterations: 6, Time per iteration (ms): 31.166666666666668\n"
     ]
    }
   ],
   "source": [
    "print(f\"Iterations: {res_lbfgs.nit}, Time per iteration (ms): {187/res_lbfgs.nit}\")"
   ]
  },
  {
   "cell_type": "code",
   "execution_count": 49,
   "metadata": {},
   "outputs": [
    {
     "name": "stdout",
     "output_type": "stream",
     "text": [
      "940 ms ± 53.6 ms per loop (mean ± std. dev. of 7 runs, 1 loop each)\n"
     ]
    }
   ],
   "source": [
    "%%timeit\n",
    "scipy.optimize.minimize(loss_function, (0,0), method=\"Nelder-Mead\")"
   ]
  },
  {
   "cell_type": "code",
   "execution_count": 51,
   "metadata": {},
   "outputs": [
    {
     "name": "stdout",
     "output_type": "stream",
     "text": [
      "Iterations: 58, Time per iteration (ms): 15.948275862068966\n"
     ]
    }
   ],
   "source": [
    "print(f\"Iterations: {res_nm.nit}, Time per iteration (ms): {925/res_nm.nit}\")"
   ]
  },
  {
   "cell_type": "code",
   "execution_count": 55,
   "metadata": {},
   "outputs": [],
   "source": [
    "# Wir können sehen, dass ein Simplex-Schritt halb so teuer, wie ein BFGS-Schritt ist."
   ]
  },
  {
   "cell_type": "code",
   "execution_count": null,
   "metadata": {},
   "outputs": [],
   "source": []
  }
 ],
 "metadata": {
  "kernelspec": {
   "display_name": ".venv",
   "language": "python",
   "name": "python3"
  },
  "language_info": {
   "codemirror_mode": {
    "name": "ipython",
    "version": 3
   },
   "file_extension": ".py",
   "mimetype": "text/x-python",
   "name": "python",
   "nbconvert_exporter": "python",
   "pygments_lexer": "ipython3",
   "version": "3.8.10"
  },
  "orig_nbformat": 4
 },
 "nbformat": 4,
 "nbformat_minor": 2
}
