{
 "cells": [
  {
   "cell_type": "code",
   "execution_count": 20,
   "metadata": {},
   "outputs": [],
   "source": [
    "import scipy\n",
    "from scipy.optimize import LinearConstraint\n",
    "from functools import partial\n",
    "import numpy as np"
   ]
  },
  {
   "cell_type": "code",
   "execution_count": 8,
   "metadata": {},
   "outputs": [],
   "source": [
    "def rosenbrock(x):\n",
    "    return 100*(x[0]**2 - x[1])**2 + (1 - x[0])**2\n",
    "\n",
    "def rosenbrock_scaled(x, alpha):\n",
    "    y = (x[0]*alpha, x[1]/alpha)\n",
    "    return rosenbrock(y)"
   ]
  },
  {
   "cell_type": "code",
   "execution_count": 110,
   "metadata": {},
   "outputs": [],
   "source": [
    "# Nebenbedingung:\n",
    "def g(x):\n",
    "    return 2*x[0] - x[1]\n",
    "\n",
    "def h(x):\n",
    "    if x[0] <= 1.5:\n",
    "        return 0\n",
    "    else:\n",
    "        return x[0] - 1.5\n",
    "\n",
    "# Penalty-Funktion:\n",
    "def P(x, c):\n",
    "    return rosenbrock(x) + c/2*g(x)**2 + c/2*h(x)**2"
   ]
  },
  {
   "cell_type": "code",
   "execution_count": 111,
   "metadata": {},
   "outputs": [],
   "source": [
    "def penalty_optimizer(p, g, h, x0):\n",
    "    nit = 0\n",
    "    best_f = np.inf\n",
    "    best_x = x0\n",
    "    def outside_bounds(x):\n",
    "        return np.abs(g(best_x)) >= 0.0001 or h(best_x) > 0\n",
    "\n",
    "    while outside_bounds(best_x):\n",
    "        c = 2**nit\n",
    "\n",
    "        iteration = scipy.optimize.minimize(partial(p, c=c), x0=best_x, method=\"Nelder-Mead\")\n",
    "\n",
    "        \n",
    "        best_f = iteration.fun\n",
    "        \n",
    "        best_x = iteration.x\n",
    "         \n",
    "        if outside_bounds(best_x): assert iteration.fun >= best_f\n",
    "        print(f\"F:{rosenbrock(best_x)}, X:{iteration.x}, constraint:{g(best_x)}\")\n",
    "        nit += 1\n",
    "\n",
    "    return best_x"
   ]
  },
  {
   "cell_type": "code",
   "execution_count": 113,
   "metadata": {},
   "outputs": [
    {
     "name": "stdout",
     "output_type": "stream",
     "text": [
      "F:0.002475394870992226, X:[0.99999999 1.00497531], constraint:0.9950246659700155\n",
      "F:0.39646596905325154, X:[1.6267815  2.65242714], constraint:0.6011358582116859\n",
      "F:0.5791468063018794, X:[1.7563835 3.093268 ], constraint:0.41949900786025296\n",
      "F:0.6843632240324461, X:[1.81735782 3.31555244], constraint:0.31916319592982356\n",
      "F:0.7577556596079621, X:[1.84403552 3.42176482], constraint:0.26630622340868904\n",
      "F:0.8689114915923142, X:[1.85114568 3.46474855], constraint:0.23754280579288078\n",
      "F:1.2023389470254326, X:[1.84309441 3.46710625], constraint:0.21908256658539216\n",
      "F:2.341737987586744, X:[1.81767898 3.43330676], constraint:0.2020512036008224\n",
      "F:5.841515450009655, X:[1.76936209 3.35976221], constraint:0.17896197169306216\n",
      "F:14.065482366793336, X:[1.69827306 3.25261338], constraint:0.1439327465414677\n",
      "F:26.55374175754985, X:[1.62334286 3.14676119], constraint:0.09992452072956137\n",
      "F:38.424134939611314, X:[1.56786607 3.07546946], constraint:0.06026268146181657\n",
      "F:46.56080462518383, X:[1.53530188 3.03740371], constraint:0.03320005669224102\n",
      "F:51.29205785066905, X:[1.51794364 3.0184623 ], constraint:0.017424981036606724\n",
      "F:53.83031346731796, X:[1.50903866 3.00912113], constraint:0.008956195761461228\n",
      "F:55.15055367495952, X:[1.50452423 3.00451156], constraint:0.004536894053378759\n",
      "F:55.82731141502627, X:[1.50224851 3.0022374 ], constraint:0.0022596254998705767\n",
      "F:56.15684815963792, X:[1.50113799 3.00111646], constraint:0.0011595154781511852\n",
      "F:56.332016725822285, X:[1.50056459 3.0005696 ], constraint:0.0005595873112516081\n",
      "F:56.41963757419905, X:[1.50027038 3.00027347], constraint:0.00026729051822904637\n",
      "F:56.4590386524969, X:[1.50013712 3.00013735], constraint:0.0001368990335746112\n",
      "F:56.47789280555561, X:[1.50007483 3.00007661], constraint:7.305535525370388e-05\n",
      "F:56.490359000313745, X:[1.50002968 3.00002455], constraint:3.4797318833490465e-05\n",
      "F:56.49477261098024, X:[1.50001615 3.0000135 ], constraint:1.8804396686000757e-05\n",
      "F:56.49670411422573, X:[1.5000112  3.00001156], constraint:1.0844859920755567e-05\n",
      "F:56.49804326780801, X:[1.50000228 2.99999377], constraint:1.0782403792930495e-05\n",
      "F:56.49804326780801, X:[1.50000228 2.99999377], constraint:1.0782403792930495e-05\n",
      "F:56.498292336443114, X:[1.50000062 2.99999046], constraint:1.0771924765506924e-05\n",
      "F:56.498292336443114, X:[1.50000062 2.99999046], constraint:1.0771924765506924e-05\n",
      "F:56.498292336443114, X:[1.50000062 2.99999046], constraint:1.0771924765506924e-05\n",
      "F:56.498292336443114, X:[1.50000062 2.99999046], constraint:1.0771924765506924e-05\n",
      "F:56.49996864131926, X:[1.50000016 3.00000027], constraint:4.8906417582372796e-08\n",
      "F:56.49996864131926, X:[1.50000016 3.00000027], constraint:4.8906417582372796e-08\n",
      "F:56.49996864131926, X:[1.50000016 3.00000027], constraint:4.8906417582372796e-08\n",
      "F:56.49996864131926, X:[1.50000016 3.00000027], constraint:4.8906417582372796e-08\n",
      "F:56.50038345883064, X:[1.49999738 2.9999947 ], constraint:5.014773796219174e-08\n"
     ]
    }
   ],
   "source": [
    "x0 = (1,1)\n",
    "best_x = penalty_optimizer(P, g, h, x0)"
   ]
  },
  {
   "cell_type": "code",
   "execution_count": 117,
   "metadata": {},
   "outputs": [
    {
     "data": {
      "text/plain": [
       "56.50038345883064"
      ]
     },
     "execution_count": 117,
     "metadata": {},
     "output_type": "execute_result"
    }
   ],
   "source": [
    "rosenbrock(best_x)"
   ]
  },
  {
   "cell_type": "code",
   "execution_count": 114,
   "metadata": {},
   "outputs": [
    {
     "data": {
      "text/plain": [
       "array([1.49999738, 2.9999947 ])"
      ]
     },
     "execution_count": 114,
     "metadata": {},
     "output_type": "execute_result"
    }
   ],
   "source": [
    "best_x"
   ]
  },
  {
   "cell_type": "code",
   "execution_count": 115,
   "metadata": {},
   "outputs": [
    {
     "data": {
      "text/plain": [
       "5.014773796219174e-08"
      ]
     },
     "execution_count": 115,
     "metadata": {},
     "output_type": "execute_result"
    }
   ],
   "source": [
    "g(best_x)"
   ]
  },
  {
   "cell_type": "code",
   "execution_count": 116,
   "metadata": {},
   "outputs": [],
   "source": [
    "# scipy.optimize.minimize(partial(P, c=2), x0=x0)"
   ]
  },
  {
   "cell_type": "code",
   "execution_count": null,
   "metadata": {},
   "outputs": [],
   "source": []
  }
 ],
 "metadata": {
  "kernelspec": {
   "display_name": ".venv",
   "language": "python",
   "name": "python3"
  },
  "language_info": {
   "codemirror_mode": {
    "name": "ipython",
    "version": 3
   },
   "file_extension": ".py",
   "mimetype": "text/x-python",
   "name": "python",
   "nbconvert_exporter": "python",
   "pygments_lexer": "ipython3",
   "version": "3.8.10"
  },
  "orig_nbformat": 4
 },
 "nbformat": 4,
 "nbformat_minor": 2
}
